{
 "cells": [
  {
   "cell_type": "code",
   "execution_count": 1,
   "id": "a268afab",
   "metadata": {},
   "outputs": [],
   "source": [
    "import time\n",
    "import sys\n",
    "import os\n",
    "import numpy as np\n",
    "import pandas as pd\n",
    "import datetime\n",
    "from sklearn.metrics import precision_score, recall_score, f1_score\n",
    "import matplotlib.pyplot as plt\n",
    "\n"
   ]
  },
  {
   "cell_type": "code",
   "execution_count": 10,
   "id": "c78e8b9d",
   "metadata": {},
   "outputs": [
    {
     "data": {
      "text/html": [
       "<div>\n",
       "<style scoped>\n",
       "    .dataframe tbody tr th:only-of-type {\n",
       "        vertical-align: middle;\n",
       "    }\n",
       "\n",
       "    .dataframe tbody tr th {\n",
       "        vertical-align: top;\n",
       "    }\n",
       "\n",
       "    .dataframe thead th {\n",
       "        text-align: right;\n",
       "    }\n",
       "</style>\n",
       "<table border=\"1\" class=\"dataframe\">\n",
       "  <thead>\n",
       "    <tr style=\"text-align: right;\">\n",
       "      <th></th>\n",
       "      <th>Threshold</th>\n",
       "      <th>Precision</th>\n",
       "      <th>Recall</th>\n",
       "      <th>F1-Score</th>\n",
       "    </tr>\n",
       "  </thead>\n",
       "  <tbody>\n",
       "    <tr>\n",
       "      <th>0</th>\n",
       "      <td>0.1</td>\n",
       "      <td>0.230912</td>\n",
       "      <td>0.851979</td>\n",
       "      <td>0.363347</td>\n",
       "    </tr>\n",
       "    <tr>\n",
       "      <th>1</th>\n",
       "      <td>0.2</td>\n",
       "      <td>0.333571</td>\n",
       "      <td>0.496368</td>\n",
       "      <td>0.399003</td>\n",
       "    </tr>\n",
       "    <tr>\n",
       "      <th>2</th>\n",
       "      <td>0.3</td>\n",
       "      <td>0.444684</td>\n",
       "      <td>0.242343</td>\n",
       "      <td>0.313717</td>\n",
       "    </tr>\n",
       "    <tr>\n",
       "      <th>3</th>\n",
       "      <td>0.4</td>\n",
       "      <td>0.559015</td>\n",
       "      <td>0.109867</td>\n",
       "      <td>0.183641</td>\n",
       "    </tr>\n",
       "    <tr>\n",
       "      <th>4</th>\n",
       "      <td>0.5</td>\n",
       "      <td>0.662954</td>\n",
       "      <td>0.049984</td>\n",
       "      <td>0.092960</td>\n",
       "    </tr>\n",
       "    <tr>\n",
       "      <th>5</th>\n",
       "      <td>0.6</td>\n",
       "      <td>0.750327</td>\n",
       "      <td>0.024068</td>\n",
       "      <td>0.046641</td>\n",
       "    </tr>\n",
       "    <tr>\n",
       "      <th>6</th>\n",
       "      <td>0.7</td>\n",
       "      <td>0.802452</td>\n",
       "      <td>0.012365</td>\n",
       "      <td>0.024354</td>\n",
       "    </tr>\n",
       "    <tr>\n",
       "      <th>7</th>\n",
       "      <td>0.8</td>\n",
       "      <td>0.848046</td>\n",
       "      <td>0.006151</td>\n",
       "      <td>0.012213</td>\n",
       "    </tr>\n",
       "    <tr>\n",
       "      <th>8</th>\n",
       "      <td>0.9</td>\n",
       "      <td>0.936842</td>\n",
       "      <td>0.001868</td>\n",
       "      <td>0.003729</td>\n",
       "    </tr>\n",
       "    <tr>\n",
       "      <th>9</th>\n",
       "      <td>1.0</td>\n",
       "      <td>0.000000</td>\n",
       "      <td>0.000000</td>\n",
       "      <td>0.000000</td>\n",
       "    </tr>\n",
       "  </tbody>\n",
       "</table>\n",
       "</div>"
      ],
      "text/plain": [
       "   Threshold  Precision    Recall  F1-Score\n",
       "0        0.1   0.230912  0.851979  0.363347\n",
       "1        0.2   0.333571  0.496368  0.399003\n",
       "2        0.3   0.444684  0.242343  0.313717\n",
       "3        0.4   0.559015  0.109867  0.183641\n",
       "4        0.5   0.662954  0.049984  0.092960\n",
       "5        0.6   0.750327  0.024068  0.046641\n",
       "6        0.7   0.802452  0.012365  0.024354\n",
       "7        0.8   0.848046  0.006151  0.012213\n",
       "8        0.9   0.936842  0.001868  0.003729\n",
       "9        1.0   0.000000  0.000000  0.000000"
      ]
     },
     "execution_count": 10,
     "metadata": {},
     "output_type": "execute_result"
    }
   ],
   "source": [
    "thresholds = np.arange(0.1, 1.1, 0.1)\n",
    "\n",
    "results_df = pd.DataFrame(columns=['Threshold', 'Precision', 'Recall', 'F1-Score'])\n",
    "\n",
    "for threshold in thresholds:\n",
    "    binary_predictions = (df['model_prob'] >= threshold).astype(int)\n",
    "    precision = precision_score(df['all_dob90_dpd7_fz'], binary_predictions)\n",
    "    recall = recall_score(df['all_dob90_dpd7_fz'], binary_predictions)\n",
    "    f1 = f1_score(df['all_dob90_dpd7_fz'], binary_predictions)\n",
    "    \n",
    "    results_df.loc[len(results_df)] = [threshold, precision, recall, f1]\n",
    "    \n",
    "results_df"
   ]
  },
  {
   "cell_type": "code",
   "execution_count": 7,
   "id": "f66fa7f1",
   "metadata": {},
   "outputs": [
    {
     "data": {
      "text/html": [
       "<div>\n",
       "<style scoped>\n",
       "    .dataframe tbody tr th:only-of-type {\n",
       "        vertical-align: middle;\n",
       "    }\n",
       "\n",
       "    .dataframe tbody tr th {\n",
       "        vertical-align: top;\n",
       "    }\n",
       "\n",
       "    .dataframe thead th {\n",
       "        text-align: right;\n",
       "    }\n",
       "</style>\n",
       "<table border=\"1\" class=\"dataframe\">\n",
       "  <thead>\n",
       "    <tr style=\"text-align: right;\">\n",
       "      <th></th>\n",
       "      <th>Threshold</th>\n",
       "      <th>Precision</th>\n",
       "      <th>Recall</th>\n",
       "      <th>F1-Score</th>\n",
       "    </tr>\n",
       "  </thead>\n",
       "  <tbody>\n",
       "    <tr>\n",
       "      <th>0</th>\n",
       "      <td>0.1</td>\n",
       "      <td>0.289633</td>\n",
       "      <td>0.639403</td>\n",
       "      <td>0.398676</td>\n",
       "    </tr>\n",
       "    <tr>\n",
       "      <th>1</th>\n",
       "      <td>0.2</td>\n",
       "      <td>0.330981</td>\n",
       "      <td>0.508995</td>\n",
       "      <td>0.401125</td>\n",
       "    </tr>\n",
       "    <tr>\n",
       "      <th>2</th>\n",
       "      <td>0.3</td>\n",
       "      <td>0.352744</td>\n",
       "      <td>0.445500</td>\n",
       "      <td>0.393733</td>\n",
       "    </tr>\n",
       "    <tr>\n",
       "      <th>3</th>\n",
       "      <td>0.4</td>\n",
       "      <td>0.368700</td>\n",
       "      <td>0.402601</td>\n",
       "      <td>0.384905</td>\n",
       "    </tr>\n",
       "    <tr>\n",
       "      <th>4</th>\n",
       "      <td>0.5</td>\n",
       "      <td>0.384240</td>\n",
       "      <td>0.363866</td>\n",
       "      <td>0.373776</td>\n",
       "    </tr>\n",
       "    <tr>\n",
       "      <th>5</th>\n",
       "      <td>0.6</td>\n",
       "      <td>0.399641</td>\n",
       "      <td>0.329087</td>\n",
       "      <td>0.360949</td>\n",
       "    </tr>\n",
       "    <tr>\n",
       "      <th>6</th>\n",
       "      <td>0.7</td>\n",
       "      <td>0.417718</td>\n",
       "      <td>0.289899</td>\n",
       "      <td>0.342264</td>\n",
       "    </tr>\n",
       "    <tr>\n",
       "      <th>7</th>\n",
       "      <td>0.8</td>\n",
       "      <td>0.448741</td>\n",
       "      <td>0.234356</td>\n",
       "      <td>0.307907</td>\n",
       "    </tr>\n",
       "    <tr>\n",
       "      <th>8</th>\n",
       "      <td>0.9</td>\n",
       "      <td>0.526734</td>\n",
       "      <td>0.139002</td>\n",
       "      <td>0.219958</td>\n",
       "    </tr>\n",
       "    <tr>\n",
       "      <th>9</th>\n",
       "      <td>1.0</td>\n",
       "      <td>0.928571</td>\n",
       "      <td>0.001371</td>\n",
       "      <td>0.002738</td>\n",
       "    </tr>\n",
       "  </tbody>\n",
       "</table>\n",
       "</div>"
      ],
      "text/plain": [
       "   Threshold  Precision    Recall  F1-Score\n",
       "0        0.1   0.289633  0.639403  0.398676\n",
       "1        0.2   0.330981  0.508995  0.401125\n",
       "2        0.3   0.352744  0.445500  0.393733\n",
       "3        0.4   0.368700  0.402601  0.384905\n",
       "4        0.5   0.384240  0.363866  0.373776\n",
       "5        0.6   0.399641  0.329087  0.360949\n",
       "6        0.7   0.417718  0.289899  0.342264\n",
       "7        0.8   0.448741  0.234356  0.307907\n",
       "8        0.9   0.526734  0.139002  0.219958\n",
       "9        1.0   0.928571  0.001371  0.002738"
      ]
     },
     "execution_count": 7,
     "metadata": {},
     "output_type": "execute_result"
    }
   ],
   "source": [
    "thresholds = np.arange(0.1, 1.1, 0.1)\n",
    "\n",
    "results_df = pd.DataFrame(columns=['Threshold', 'Precision', 'Recall', 'F1-Score'])\n",
    "\n",
    "for threshold in thresholds:\n",
    "    binary_predictions = (df_time[df_time['val_preds-dob90dpd7'] >= threshold).astype(int)\n",
    "    \n",
    "    precision = precision_score(df_time[df_time['val_true-dob90dpd7'], binary_predictions)\n",
    "    recall = recall_score(df_time[df_time['val_true-dob90dpd7'], binary_predictions)\n",
    "    f1 = f1_score(df_time[df_time['val_true-dob90dpd7'], binary_predictions)\n",
    "    \n",
    "    results_df.loc[len(results_df)] = [threshold, precision, recall, f1]\n",
    "    \n",
    "results_df"
   ]
  },
  {
   "cell_type": "code",
   "execution_count": 11,
   "id": "0a5ca59e",
   "metadata": {
    "scrolled": true
   },
   "outputs": [
    {
     "data": {
      "text/plain": [
       "<Figure size 1200x500 with 0 Axes>"
      ]
     },
     "execution_count": 11,
     "metadata": {},
     "output_type": "execute_result"
    },
    {
     "data": {
      "text/plain": [
       "<Axes: >"
      ]
     },
     "execution_count": 11,
     "metadata": {},
     "output_type": "execute_result"
    },
    {
     "data": {
      "text/plain": [
       "(array([3.43991900e+00, 5.38611028e+00, 4.54018281e+00, 3.14952731e+00,\n",
       "        1.94845027e+00, 1.13202263e+00, 6.63081693e-01, 3.78138171e-01,\n",
       "        2.04682733e-01, 1.12949787e-01, 6.24988824e-02, 3.44164647e-02,\n",
       "        1.78062018e-02, 1.04533921e-02, 6.37834094e-03, 4.11934519e-03,\n",
       "        3.10058240e-03, 2.17040768e-03, 1.41740910e-03, 4.42940343e-04]),\n",
       " array([0.00240066, 0.04979881, 0.09719696, 0.14459512, 0.19199327,\n",
       "        0.23939142, 0.28678957, 0.33418773, 0.38158588, 0.42898403,\n",
       "        0.47638218, 0.52378034, 0.57117849, 0.61857664, 0.66597479,\n",
       "        0.71337295, 0.7607711 , 0.80816925, 0.85556741, 0.90296556,\n",
       "        0.95036371]),\n",
       " <BarContainer object of 20 artists>)"
      ]
     },
     "execution_count": 11,
     "metadata": {},
     "output_type": "execute_result"
    },
    {
     "data": {
      "text/plain": [
       "(array([0.73409118, 2.4694896 , 3.58245961, 3.55233863, 2.94389495,\n",
       "        2.16204051, 1.61039638, 1.10694581, 0.75646676, 0.49979303,\n",
       "        0.32207928, 0.22676791, 0.15404727, 0.10284161, 0.07465699,\n",
       "        0.05593895, 0.04905416, 0.04216936, 0.03980272, 0.01204839]),\n",
       " array([0.00509958, 0.05388644, 0.1026733 , 0.15146016, 0.20024701,\n",
       "        0.24903387, 0.29782073, 0.34660759, 0.39539445, 0.44418131,\n",
       "        0.49296817, 0.54175502, 0.59054188, 0.63932874, 0.6881156 ,\n",
       "        0.73690246, 0.78568932, 0.83447617, 0.88326303, 0.93204989,\n",
       "        0.98083675]),\n",
       " <BarContainer object of 20 artists>)"
      ]
     },
     "execution_count": 11,
     "metadata": {},
     "output_type": "execute_result"
    },
    {
     "data": {
      "text/plain": [
       "Text(0.5, 0, 'XGBoost Probability (model_prob)')"
      ]
     },
     "execution_count": 11,
     "metadata": {},
     "output_type": "execute_result"
    },
    {
     "data": {
      "text/plain": [
       "Text(0, 0.5, 'Proportion')"
      ]
     },
     "execution_count": 11,
     "metadata": {},
     "output_type": "execute_result"
    },
    {
     "data": {
      "text/plain": [
       "Text(0.5, 1.0, 'XGBoost Model Results')"
      ]
     },
     "execution_count": 11,
     "metadata": {},
     "output_type": "execute_result"
    },
    {
     "data": {
      "text/plain": [
       "<matplotlib.legend.Legend at 0x7f1730df1bd0>"
      ]
     },
     "execution_count": 11,
     "metadata": {},
     "output_type": "execute_result"
    },
    {
     "data": {
      "text/plain": [
       "<Axes: >"
      ]
     },
     "execution_count": 11,
     "metadata": {},
     "output_type": "execute_result"
    },
    {
     "data": {
      "text/plain": [
       "(array([10.72454133,  3.00793535,  1.38178151,  0.7731497 ,  0.49823609,\n",
       "         0.34641561,  0.27326843,  0.23973209,  0.22159294,  0.20303194,\n",
       "         0.17936668,  0.17569667,  0.17641379,  0.1843444 ,  0.21146876,\n",
       "         0.25399031,  0.30925144,  0.34266123,  0.30414717,  0.19497479]),\n",
       " array([1.00000e-04, 5.00950e-02, 1.00090e-01, 1.50085e-01, 2.00080e-01,\n",
       "        2.50075e-01, 3.00070e-01, 3.50065e-01, 4.00060e-01, 4.50055e-01,\n",
       "        5.00050e-01, 5.50045e-01, 6.00040e-01, 6.50035e-01, 7.00030e-01,\n",
       "        7.50025e-01, 8.00020e-01, 8.50015e-01, 9.00010e-01, 9.50005e-01,\n",
       "        1.00000e+00]),\n",
       " <BarContainer object of 20 artists>)"
      ]
     },
     "execution_count": 11,
     "metadata": {},
     "output_type": "execute_result"
    },
    {
     "data": {
      "text/plain": [
       "(array([4.42545145, 2.80562734, 1.61032924, 0.98957601, 0.71274793,\n",
       "        0.55281219, 0.45912951, 0.39920636, 0.40870122, 0.36565783,\n",
       "        0.33865021, 0.35679596, 0.38148261, 0.40173832, 0.49310003,\n",
       "        0.61927625, 0.82499834, 1.08304769, 1.24087346, 1.53880125]),\n",
       " array([4.0000e-04, 5.0380e-02, 1.0036e-01, 1.5034e-01, 2.0032e-01,\n",
       "        2.5030e-01, 3.0028e-01, 3.5026e-01, 4.0024e-01, 4.5022e-01,\n",
       "        5.0020e-01, 5.5018e-01, 6.0016e-01, 6.5014e-01, 7.0012e-01,\n",
       "        7.5010e-01, 8.0008e-01, 8.5006e-01, 9.0004e-01, 9.5002e-01,\n",
       "        1.0000e+00]),\n",
       " <BarContainer object of 20 artists>)"
      ]
     },
     "execution_count": 11,
     "metadata": {},
     "output_type": "execute_result"
    },
    {
     "data": {
      "text/plain": [
       "Text(0.5, 0, 'FinLangNet Probability (model_prob)')"
      ]
     },
     "execution_count": 11,
     "metadata": {},
     "output_type": "execute_result"
    },
    {
     "data": {
      "text/plain": [
       "Text(0, 0.5, 'Proportion')"
      ]
     },
     "execution_count": 11,
     "metadata": {},
     "output_type": "execute_result"
    },
    {
     "data": {
      "text/plain": [
       "Text(0.5, 1.0, 'FinLangNet Model Results')"
      ]
     },
     "execution_count": 11,
     "metadata": {},
     "output_type": "execute_result"
    },
    {
     "data": {
      "text/plain": [
       "<matplotlib.legend.Legend at 0x7f1730db55d0>"
      ]
     },
     "execution_count": 11,
     "metadata": {},
     "output_type": "execute_result"
    },
    {
     "data": {
      "image/png": "[encoded data removed]",
      "text/plain": [
       "<Figure size 1200x500 with 2 Axes>"
      ]
     },
     "metadata": {},
     "output_type": "display_data"
    }
   ],
   "source": [
    "plt.figure(figsize=(12, 5))\n",
    "\n",
    "plt.subplot(1, 2, 1)  \n",
    "for group_name, group_data in df.groupby('all_dob90_dpd7_fz'):\n",
    "    plt.hist(group_data['model_prob'], bins=20, alpha=0.5, label=group_name, density=True)  # 使用density参数\n",
    "plt.xlabel('XGBoost Probability (model_prob)')\n",
    "plt.ylabel('Proportion')  \n",
    "plt.title('XGBoost Model Results')  \n",
    "plt.legend(title='Group by dob90_dpd7 label')\n",
    "\n",
    "plt.subplot(1, 2, 2)  \n",
    "for group_name, group_data in df_time.groupby('val_true-dob90dpd7'):\n",
    "    plt.hist(group_data['val_preds-dob90dpd7'], bins=20, alpha=0.5, label=group_name, density=True)  # 使用density参数\n",
    "plt.xlabel('FinLangNet Probability (model_prob)')\n",
    "plt.ylabel('Proportion')  \n",
    "plt.title('FinLangNet Model Results')  \n",
    "plt.legend(title='Group by dob90_dpd7 label')\n",
    "\n",
    "plt.tight_layout()\n",
    "\n",
    "plt.show()"
   ]
  },
  {
   "cell_type": "code",
   "execution_count": null,
   "id": "f06df707",
   "metadata": {},
   "outputs": [],
   "source": []
  }
 ],
 "metadata": {
  "kernelspec": {
   "display_name": "py310",
   "language": "python",
   "name": "py310"
  },
  "language_info": {
   "codemirror_mode": {
    "name": "ipython",
    "version": 3
   },
   "file_extension": ".py",
   "mimetype": "text/x-python",
   "name": "python",
   "nbconvert_exporter": "python",
   "pygments_lexer": "ipython3",
   "version": "3.10.4"
  }
 },
 "nbformat": 4,
 "nbformat_minor": 5
}
